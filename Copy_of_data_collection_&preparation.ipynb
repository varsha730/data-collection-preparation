{
  "nbformat": 4,
  "nbformat_minor": 0,
  "metadata": {
    "colab": {
      "provenance": []
    },
    "kernelspec": {
      "name": "python3",
      "display_name": "Python 3"
    },
    "language_info": {
      "name": "python"
    }
  },
  "cells": [
    {
      "cell_type": "code",
      "source": [
        "import numpy as np\n",
        "import pandas as pd\n",
        "import matplotlib.pyplot as plt\n",
        "import seaborn as sns\n",
        "%matplotlib inline"
      ],
      "metadata": {
        "id": "MP1T7gxtvisd"
      },
      "execution_count": null,
      "outputs": []
    },
    {
      "cell_type": "code",
      "source": [
        "#read_csv is a pandas function to read csv files\n",
        "data = pd.read_csv('data.csv')"
      ],
      "metadata": {
        "id": "B33MCtRlDUZS"
      },
      "execution_count": null,
      "outputs": []
    },
    {
      "cell_type": "code",
      "source": [
        "data.info()"
      ],
      "metadata": {
        "colab": {
          "base_uri": "https://localhost:8080/"
        },
        "id": "kx0kZSqdD291",
        "outputId": "8d2546c4-9bad-47f0-980a-a2e6db269ac6"
      },
      "execution_count": null,
      "outputs": [
        {
          "output_type": "stream",
          "name": "stdout",
          "text": [
            "<class 'pandas.core.frame.DataFrame'>\n",
            "RangeIndex: 51 entries, 0 to 50\n",
            "Data columns (total 13 columns):\n",
            " #   Column               Non-Null Count  Dtype  \n",
            "---  ------               --------------  -----  \n",
            " 0   Symbol               51 non-null     object \n",
            " 1   Open                 51 non-null     object \n",
            " 2   High                 51 non-null     object \n",
            " 3   Low                  51 non-null     object \n",
            " 4   Last Traded Price    51 non-null     object \n",
            " 5   Change               51 non-null     float64\n",
            " 6   %Change              51 non-null     float64\n",
            " 7   Traded Volume(lacs)  51 non-null     float64\n",
            " 8   Traded Value(crs)    51 non-null     float64\n",
            " 9   52 Week High         51 non-null     object \n",
            " 10  52 Week Low          51 non-null     object \n",
            " 11  365 Days % Change    51 non-null     float64\n",
            " 12  30 Days % Change     51 non-null     float64\n",
            "dtypes: float64(6), object(7)\n",
            "memory usage: 5.3+ KB\n"
          ]
        }
      ]
    },
    {
      "cell_type": "code",
      "source": [
        "data.isnull().any()"
      ],
      "metadata": {
        "colab": {
          "base_uri": "https://localhost:8080/"
        },
        "id": "sQV9kH9AD_1S",
        "outputId": "45ba041d-d354-4b7d-c736-6fa3c53bbfb0"
      },
      "execution_count": null,
      "outputs": [
        {
          "output_type": "execute_result",
          "data": {
            "text/plain": [
              "Symbol                 False\n",
              "Open                   False\n",
              "High                   False\n",
              "Low                    False\n",
              "Last Traded Price      False\n",
              "Change                 False\n",
              "%Change                False\n",
              "Traded Volume(lacs)    False\n",
              "Traded Value(crs)      False\n",
              "52 Week High           False\n",
              "52 Week Low            False\n",
              "365 Days % Change      False\n",
              "30 Days % Change       False\n",
              "dtype: bool"
            ]
          },
          "metadata": {},
          "execution_count": 12
        }
      ]
    },
    {
      "cell_type": "code",
      "source": [
        "data=data.rename(columns={'chance of Admit':'chance of Admit'})"
      ],
      "metadata": {
        "id": "ERCPwjNGEImP"
      },
      "execution_count": null,
      "outputs": []
    }
  ]
}